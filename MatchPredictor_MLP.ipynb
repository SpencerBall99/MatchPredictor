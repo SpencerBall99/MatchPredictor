{
 "cells": [
  {
   "cell_type": "markdown",
   "metadata": {},
   "source": [
    "# MatchPredictor\n",
    "\n",
    "### A neural network based Premier League match outcome predictor"
   ]
  },
  {
   "cell_type": "markdown",
   "metadata": {},
   "source": [
    "#### Importing Libraries & Packages"
   ]
  },
  {
   "cell_type": "code",
   "execution_count": 1,
   "metadata": {},
   "outputs": [
    {
     "name": "stdout",
     "output_type": "stream",
     "text": [
      "Microsoft Visual C++ Redistributable is not installed, this may lead to the DLL load failure.\n",
      "                 It can be downloaded at https://aka.ms/vs/16/release/vc_redist.x64.exe\n"
     ]
    }
   ],
   "source": [
    "import numpy as np\n",
    "\n",
    "import torch\n",
    "import torch.nn as nn\n",
    "import torch.nn.functional as F\n",
    "\n",
    "import pandas as pd"
   ]
  },
  {
   "cell_type": "markdown",
   "metadata": {},
   "source": [
    "#### Importing Match Data"
   ]
  },
  {
   "cell_type": "code",
   "execution_count": 5,
   "metadata": {},
   "outputs": [],
   "source": [
    "# Imported CSV becomes a pandas dataframe object\n",
    "data_19_20 = pd.read_csv(\"Prem_data_19-20\\england-premier-league-matches-2019-to-2020-stats.csv\")\n",
    "data_18_19 = pd.read_csv(\"Prem_data_18-19\\england-premier-league-matches-2018-to-2019-stats.csv\")\n",
    "data_17_18 = pd.read_csv(\"Prem_data_17-18\\england-premier-league-matches-2017-to-2018-stats.csv\")\n",
    "data_16_17 = pd.read_csv(\"Prem_data_16-17\\england-premier-league-matches-2016-to-2017-stats.csv\")\n",
    "data_15_16 = pd.read_csv(\"Prem_data_15-16\\england-premier-league-matches-2015-to-2016-stats.csv\")"
   ]
  },
  {
   "cell_type": "markdown",
   "metadata": {},
   "source": [
    "#### Preprocessing Data"
   ]
  },
  {
   "cell_type": "code",
   "execution_count": 6,
   "metadata": {},
   "outputs": [
    {
     "name": "stdout",
     "output_type": "stream",
     "text": [
      "Index(['timestamp', 'date_GMT', 'status', 'attendance', 'home_team_name',\n",
      "       'away_team_name', 'referee', 'Game Week', 'Pre-Match PPG (Home)',\n",
      "       'Pre-Match PPG (Away)', 'home_ppg', 'away_ppg', 'home_team_goal_count',\n",
      "       'away_team_goal_count', 'total_goal_count', 'total_goals_at_half_time',\n",
      "       'home_team_goal_count_half_time', 'away_team_goal_count_half_time',\n",
      "       'home_team_goal_timings', 'away_team_goal_timings',\n",
      "       'home_team_corner_count', 'away_team_corner_count',\n",
      "       'home_team_yellow_cards', 'home_team_red_cards',\n",
      "       'away_team_yellow_cards', 'away_team_red_cards',\n",
      "       'home_team_first_half_cards', 'home_team_second_half_cards',\n",
      "       'away_team_first_half_cards', 'away_team_second_half_cards',\n",
      "       'home_team_shots', 'away_team_shots', 'home_team_shots_on_target',\n",
      "       'away_team_shots_on_target', 'home_team_shots_off_target',\n",
      "       'away_team_shots_off_target', 'home_team_fouls', 'away_team_fouls',\n",
      "       'home_team_possession', 'away_team_possession', 'team_a_xg',\n",
      "       'team_b_xg', 'average_goals_per_match_pre_match',\n",
      "       'btts_percentage_pre_match', 'over_15_percentage_pre_match',\n",
      "       'over_25_percentage_pre_match', 'over_35_percentage_pre_match',\n",
      "       'over_45_percentage_pre_match', 'over_15_HT_FHG_percentage_pre_match',\n",
      "       'over_05_HT_FHG_percentage_pre_match',\n",
      "       'over_15_2HG_percentage_pre_match', 'over_05_2HG_percentage_pre_match',\n",
      "       'average_corners_per_match_pre_match',\n",
      "       'average_cards_per_match_pre_match', 'odds_ft_home_team_win',\n",
      "       'odds_ft_draw', 'odds_ft_away_team_win', 'odds_ft_over15',\n",
      "       'odds_ft_over25', 'odds_ft_over35', 'odds_ft_over45', 'odds_btts_yes',\n",
      "       'odds_btts_no', 'stadium_name'],\n",
      "      dtype='object')\n",
      "380\n"
     ]
    }
   ],
   "source": [
    "col_names = data_19_20.columns\n",
    "num_rows = data_19_20.shape[0]\n",
    "\n",
    "print(col_names)\n",
    "print(num_rows)"
   ]
  },
  {
   "cell_type": "markdown",
   "metadata": {},
   "source": [
    "#### Multi-Layer Perceptron Model"
   ]
  },
  {
   "cell_type": "code",
   "execution_count": 3,
   "metadata": {},
   "outputs": [],
   "source": [
    "import torch.nn as nn\n",
    "import torch.nn.functional as F\n",
    "\n",
    "class MultiLayerPerceptron(nn.Module):\n",
    "\n",
    "    def __init__(self, input_size):\n",
    "\n",
    "        super(MultiLayerPerceptron, self).__init__()\n",
    "\n",
    "        self.fc1 = nn.Linear(input_size,64)\n",
    "        self.fc2 = nn.Linear(64,64)\n",
    "        self.fc3 = nn.Linear(64,64)\n",
    "        self.fc4 = nn.Linear(64,1)\n",
    "\n",
    "    def forward(self, features):\n",
    "\n",
    "        features = F.relu(self.fc1(features))\n",
    "        features = F.relu(self.fc2(features))\n",
    "        features = F.relu(self.fc3(features))\n",
    "        features = F.relu(self.fc4(features))\n",
    "        features = torch.sigmoid(features)\n",
    "\n",
    "        return features"
   ]
  }
 ],
 "metadata": {
  "kernelspec": {
   "display_name": "Python 3",
   "language": "python",
   "name": "python3"
  },
  "language_info": {
   "codemirror_mode": {
    "name": "ipython",
    "version": 3
   },
   "file_extension": ".py",
   "mimetype": "text/x-python",
   "name": "python",
   "nbconvert_exporter": "python",
   "pygments_lexer": "ipython3",
   "version": "3.8.3"
  }
 },
 "nbformat": 4,
 "nbformat_minor": 4
}
