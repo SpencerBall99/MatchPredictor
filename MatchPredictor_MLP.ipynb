{
 "cells": [
  {
   "cell_type": "markdown",
   "metadata": {
    "id": "J4WnfXTuW2sb"
   },
   "source": [
    "# MatchPredictor\n",
    "\n",
    "### A neural network which predicts the outcomes of Premier League football matches"
   ]
  },
  {
   "cell_type": "markdown",
   "metadata": {
    "id": "A4uLPYGzW2sb"
   },
   "source": [
    "#### Importing Libraries & Packages"
   ]
  },
  {
   "cell_type": "code",
   "execution_count": 1,
   "metadata": {
    "id": "L3D867YUW2sb"
   },
   "outputs": [
    {
     "name": "stdout",
     "output_type": "stream",
     "text": [
      "Microsoft Visual C++ Redistributable is not installed, this may lead to the DLL load failure.\n",
      "                 It can be downloaded at https://aka.ms/vs/16/release/vc_redist.x64.exe\n"
     ]
    }
   ],
   "source": [
    "import numpy as np\n",
    "\n",
    "import torch\n",
    "import torch.nn as nn\n",
    "import torch.nn.functional as F\n",
    "\n",
    "import torch.utils.data \n",
    "\n",
    "from sklearn.preprocessing import LabelBinarizer\n",
    "from sklearn.model_selection import train_test_split\n",
    "from sklearn.metrics import confusion_matrix\n",
    "\n",
    "import pandas as pd\n",
    "import matplotlib.pyplot as plt\n",
    "\n",
    "from time import time"
   ]
  },
  {
   "cell_type": "markdown",
   "metadata": {
    "id": "ukm7le4QW2sc"
   },
   "source": [
    "#### Hyperparameters"
   ]
  },
  {
   "cell_type": "code",
   "execution_count": 2,
   "metadata": {
    "id": "1k1mUJUiW2sc"
   },
   "outputs": [],
   "source": [
    "# Data HPs\n",
    "past = 3     # How many past games are taken into account for team form calculations\n",
    "infer_data_percent = 0.20   # (1-infer_data_percent)*100 = percent of full dataset in training set\n",
    "test_data_percent = 0.50    # (test_data_percent*infer_data_percent)*100 = percent of data in test set (rest in validation set)\n",
    "\n",
    "# Training HPs\n",
    "rseed = 3 \n",
    "batch_size = 64\n",
    "lr = 0.1\n",
    "num_epochs = 13\n",
    "weight_decay = 0\n",
    "\n",
    "# Model HPs\n",
    "input_size = 12\n",
    "layer_sizes = [32,32,20,3]  # in_size = 12, fc1_size = 32, fc2_size = 32, fc3_size = 20, out_size = 3\n",
    "act= 1                      # 0 = ReLU,    1 = TanH\n",
    "loss_fcn_toggle = 0         # 0 = MSELoss, 1 = BCELoss"
   ]
  },
  {
   "cell_type": "markdown",
   "metadata": {
    "id": "Is0DNAr7W2sc"
   },
   "source": [
    "#### Importing Match Data"
   ]
  },
  {
   "cell_type": "code",
   "execution_count": 3,
   "metadata": {
    "id": "fC0-M0RiW2sc"
   },
   "outputs": [],
   "source": [
    "# Imported CSVs become pandas' DataFrames\n",
    "\n",
    "data_20_prem = pd.read_csv(\"Prem League Match Data\\england-premier-league-matches-2019-to-2020-stats.csv\")\n",
    "data_19_prem = pd.read_csv(\"Prem League Match Data\\england-premier-league-matches-2018-to-2019-stats.csv\")\n",
    "data_18_prem = pd.read_csv(\"Prem League Match Data\\england-premier-league-matches-2017-to-2018-stats.csv\")\n",
    "data_17_prem = pd.read_csv(\"Prem League Match Data\\england-premier-league-matches-2016-to-2017-stats.csv\")\n",
    "data_16_prem = pd.read_csv(\"Prem League Match Data\\england-premier-league-matches-2015-to-2016-stats.csv\")\n",
    "data_15_prem = pd.read_csv(\"Prem League Match Data\\england-premier-league-matches-2014-to-2015-stats.csv\")\n",
    "data_14_prem = pd.read_csv(\"Prem League Match Data\\england-premier-league-matches-2013-to-2014-stats.csv\")\n",
    "data_13_prem = pd.read_csv(\"Prem League Match Data\\england-premier-league-matches-2012-to-2013-stats.csv\")\n",
    "\n",
    "data_20_spain = pd.read_csv(\"La-Liga Match Data\\spain-la-liga-matches-2019-to-2020-stats.csv\")\n",
    "data_19_spain = pd.read_csv(\"La-Liga Match Data\\spain-la-liga-matches-2018-to-2019-stats.csv\")\n",
    "data_18_spain = pd.read_csv(\"La-Liga Match Data\\spain-la-liga-matches-2017-to-2018-stats.csv\")\n",
    "data_17_spain = pd.read_csv(\"La-Liga Match Data\\spain-la-liga-matches-2016-to-2017-stats.csv\")\n",
    "data_16_spain = pd.read_csv(\"La-Liga Match Data\\spain-la-liga-matches-2015-to-2016-stats.csv\")\n",
    "data_15_spain = pd.read_csv(\"La-Liga Match Data\\spain-la-liga-matches-2014-to-2015-stats.csv\")\n",
    "data_14_spain = pd.read_csv(\"La-Liga Match Data\\spain-la-liga-matches-2013-to-2014-stats.csv\")\n",
    "data_13_spain = pd.read_csv(\"La-Liga Match Data\\spain-la-liga-matches-2012-to-2013-stats.csv\")\n",
    "\n",
    "data_20_france = pd.read_csv(\"france-ligue-1-matches-2019-to-2020-stats.csv\")\n",
    "data_19_france = pd.read_csv(\"france-ligue-1-matches-2018-to-2019-stats.csv\")\n",
    "data_18_france = pd.read_csv(\"france-ligue-1-matches-2017-to-2018-stats.csv\")\n",
    "data_17_france = pd.read_csv(\"france-ligue-1-matches-2016-to-2017-stats.csv\")\n",
    "data_16_france = pd.read_csv(\"france-ligue-1-matches-2015-to-2016-stats.csv\")\n",
    "data_15_france = pd.read_csv(\"france-ligue-1-matches-2014-to-2015-stats.csv\")\n",
    "data_14_france = pd.read_csv(\"france-ligue-1-matches-2013-to-2014-stats.csv\")\n",
    "\n",
    "data_20_italy = pd.read_csv(\"Serie-A Match Data\\italy-serie-a-matches-2019-to-2020-stats.csv\")\n",
    "data_19_italy = pd.read_csv(\"Serie-A Match Data\\italy-serie-a-matches-2018-to-2019-stats.csv\")\n",
    "data_18_italy = pd.read_csv(\"Serie-A Match Data\\italy-serie-a-matches-2017-to-2018-stats.csv\")\n",
    "data_17_italy = pd.read_csv(\"Serie-A Match Data\\italy-serie-a-matches-2016-to-2017-stats.csv\")\n",
    "data_16_italy = pd.read_csv(\"Serie-A Match Data\\italy-serie-a-matches-2015-to-2016-stats.csv\")\n",
    "data_15_italy = pd.read_csv(\"Serie-A Match Data\\italy-serie-a-matches-2014-to-2015-stats.csv\")\n",
    "data_14_italy = pd.read_csv(\"Serie-A Match Data\\italy-serie-a-matches-2013-to-2014-stats.csv\")\n",
    "\n",
    "data_20_germany = pd.read_csv(\"Bundesliga Match Data\\germany-bundesliga-matches-2019-to-2020-stats.csv\")\n",
    "data_19_germany = pd.read_csv(\"Bundesliga Match Data\\germany-bundesliga-matches-2018-to-2019-stats.csv\")\n",
    "data_18_germany = pd.read_csv(\"Bundesliga Match Data\\germany-bundesliga-matches-2017-to-2018-stats.csv\")\n",
    "data_17_germany = pd.read_csv(\"Bundesliga Match Data\\germany-bundesliga-matches-2016-to-2017-stats.csv\")\n",
    "data_16_germany = pd.read_csv(\"Bundesliga Match Data\\germany-bundesliga-matches-2015-to-2016-stats.csv\")\n",
    "data_15_germany = pd.read_csv(\"Bundesliga Match Data\\germany-bundesliga-matches-2014-to-2015-stats.csv\")\n",
    "data_14_germany = pd.read_csv(\"Bundesliga Match Data\\germany-bundesliga-matches-2013-to-2014-stats.csv\")\n",
    "\n",
    "\n",
    "data = [data_20_prem, data_19_prem, data_18_prem, data_17_prem, data_16_prem, data_15_prem, data_14_prem, data_13_prem,\n",
    "        data_20_spain, data_19_spain, data_18_spain, data_17_spain, data_16_spain, data_15_spain, data_14_spain, data_13_spain,\n",
    "        data_20_france, data_19_france, data_18_france, data_17_france, data_16_france, data_15_france, data_14_france, \n",
    "        data_20_italy, data_19_italy, data_18_italy, data_17_italy, data_16_italy, data_15_italy, data_14_italy,\n",
    "        data_20_germany, data_19_germany, data_18_germany, data_17_germany, data_16_germany, data_15_germany, data_14_germany]"
   ]
  },
  {
   "cell_type": "markdown",
   "metadata": {
    "id": "m_1ZIfpIW2sc"
   },
   "source": [
    "#### DATA PREPROCSESSING  \n",
    "  \n",
    "Here we create the inputs for our model from the raw .csv files we collected from *footystats.org*.  \n",
    "  \n",
    "- Each season will be represented by a matrix.  \n",
    "- Each row of this matrix will consist of the inputs that describe a single match to the neural net.  \n",
    "  \n",
    "In each row, the entries are as follows:  \n",
    "*Note: **past** is an integer hyperparameter*  \n",
    "  \n",
    "**Index 0**: Home team average goals scored per game over last **past** games.  \n",
    "**Index 1**:  Home team average goals conceded per game over last **past** games.  \n",
    "**Index 2**:  Home team pre-match PointsPerGame (only includes current season).  \n",
    "**Index 3**:  Home team PointsPerGame (includes previous seasons).  \n",
    "**Index 4**:  Home team average number of shots on target over last **past** games.  \n",
    "**Index 5**:  Home team average number of corners over last **past** games.  \n",
    "**Index 6**:  Away team average goals scored per game over last **past** games.  \n",
    "**Index 7**:  Away team average goals conceded per game over last **past** games.  \n",
    "**Index 8**:  Away team pre-match PointsPerGame (only includes current season).  \n",
    "**Index 9**:  Away team PointsPerGame (includes previous seasons).  \n",
    "**Index 10**:  Away team average number of shots on target over last **past** games.  \n",
    "**Index 11**:  Away team average number of corners over last **past** games.  \n",
    "**Index 12 (LABEL)**:  0 if Home Team won, 1 if Away Team won, 2 if Draw. \n",
    "  \n",
    "  \n",
    "*NOTE: The first \"past\" weeks from each season cannot be used in training/testing as they have no previous matches to get data from.*"
   ]
  },
  {
   "cell_type": "code",
   "execution_count": 4,
   "metadata": {
    "colab": {
     "base_uri": "https://localhost:8080/"
    },
    "id": "Amz4WMIWW2sc",
    "outputId": "2fa7931f-8e83-40de-e21f-c5c07f3cda6d"
   },
   "outputs": [],
   "source": [
    "# Set up empty matrices to be filled with INPUTS & LABELS.\n",
    "# Once filled with values, each row will represent the inputs/label combo that describe a match to the NN.\n",
    "    \n",
    "prem_20 = np.zeros((380-(past*10),13))\n",
    "prem_19 = np.zeros((380-(past*10),13))\n",
    "prem_18 = np.zeros((380-(past*10),13))\n",
    "prem_17 = np.zeros((380-(past*10),13))\n",
    "prem_16 = np.zeros((380-(past*10),13))\n",
    "prem_15 = np.zeros((380-(past*10),13))\n",
    "prem_14 = np.zeros((380-(past*10),13))\n",
    "prem_13 = np.zeros((380-(past*10),13))\n",
    "\n",
    "spain_20 = np.zeros((380-(past*10),13))\n",
    "spain_19 = np.zeros((380-(past*10),13))\n",
    "spain_18 = np.zeros((380-(past*10),13))\n",
    "spain_17 = np.zeros((380-(past*10),13))\n",
    "spain_16 = np.zeros((380-(past*10),13))\n",
    "spain_15 = np.zeros((380-(past*10),13))\n",
    "spain_14 = np.zeros((380-(past*10),13))\n",
    "spain_13 = np.zeros((380-(past*10),13))\n",
    "\n",
    "france_20 = np.zeros((380-(past*10),13))\n",
    "france_19 = np.zeros((380-(past*10),13))\n",
    "france_18 = np.zeros((380-(past*10),13))\n",
    "france_17 = np.zeros((380-(past*10),13))\n",
    "france_16 = np.zeros((380-(past*10),13))\n",
    "france_15 = np.zeros((380-(past*10),13))\n",
    "france_14 = np.zeros((380-(past*10),13))\n",
    "\n",
    "italy_20 = np.zeros((380-(past*10),13))\n",
    "italy_19 = np.zeros((380-(past*10),13))\n",
    "italy_18 = np.zeros((380-(past*10),13))\n",
    "italy_17 = np.zeros((380-(past*10),13))\n",
    "italy_16 = np.zeros((380-(past*10),13))\n",
    "italy_15 = np.zeros((380-(past*10),13))\n",
    "italy_14 = np.zeros((380-(past*10),13))\n",
    "\n",
    "germany_20 = np.zeros((306-(past*9),13))\n",
    "germany_19 = np.zeros((306-(past*9),13))\n",
    "germany_18 = np.zeros((306-(past*9),13))\n",
    "germany_17 = np.zeros((306-(past*9),13))\n",
    "germany_16 = np.zeros((306-(past*9),13))\n",
    "germany_15 = np.zeros((306-(past*9),13))\n",
    "germany_14 = np.zeros((306-(past*9),13))\n",
    "\n",
    "\n",
    "input_seasons = [prem_20, prem_19, prem_18, prem_17, prem_16, prem_15, prem_14, prem_13,\n",
    "                 spain_20, spain_19, spain_18, spain_17, spain_16, spain_15, spain_14, spain_13,\n",
    "                 france_20, france_19, france_18, france_17, france_16, france_15, france_14, \n",
    "                 italy_20, italy_19, italy_18, italy_17, italy_16, italy_15, italy_14,\n",
    "                 germany_20, germany_19, germany_18, germany_17, germany_16, germany_15, germany_14]\n",
    "\n",
    "\n",
    "season_idx = 0\n",
    "for season in data:\n",
    "    \n",
    "    week = past + 1\n",
    "    input_season = input_seasons[season_idx]\n",
    "    \n",
    "    if season_idx < 30: # if any league other than German league...\n",
    "        weeks_in_season = 38\n",
    "        \n",
    "    if season_idx >= 30: # if German league...\n",
    "        weeks_in_season = 34\n",
    "    \n",
    "    while week <= weeks_in_season:\n",
    "        \n",
    "        match_count = 0                      # counts up to match_total for each week\n",
    "        \n",
    "        if season_idx < 30:\n",
    "            match_total = 10                 # each week has 10 matches in every league except German\n",
    "            \n",
    "        if season_idx >= 30:                 # season 31-37 == German league\n",
    "            match_total = 9                  # German league has 9 matches in a given week\n",
    "        \n",
    "        \n",
    "        row_idx = (week-1)*match_total       # index of the first match of new week\n",
    "\n",
    "        \n",
    "        while match_count < match_total:\n",
    "    \n",
    "            match = season.iloc[[row_idx]]                     # saving current match\n",
    "            \n",
    "             # getting match LABEL (match result)\n",
    "            if (match.iat[0,12] > match.iat[0,13]):            \n",
    "                    result = 0   # home team win\n",
    "            elif (match.iat[0,12] < match.iat[0,13]):\n",
    "                    result = 1   # away team win\n",
    "            else:\n",
    "                    result = 2   # draw\n",
    "                    \n",
    "            \n",
    "            home_team = season.at[row_idx,'home_team_name']    # saving home team name\n",
    "            away_team = season.at[row_idx,'away_team_name']    # saving away team name\n",
    "            \n",
    "            total_home_goals = 0                               # counts total goals scored by home team over \"past\" matches\n",
    "            total_away_goals = 0                               # counts total goals scored by away team over \"past\" matches\n",
    "            \n",
    "            total_home_conceded = 0                            # counts total goals scored against home team over \"past\" matches \n",
    "            total_away_conceded = 0                            # counts total goals scored against away team over \"past\" matches\n",
    "            \n",
    "            total_home_shotson = 0                             # counts total shots on target taken by home team over...\n",
    "            total_away_shotson = 0                             # counts total shots on target taken by away team over...\n",
    "            \n",
    "            total_home_corners = 0                             # counts total corners taken by home team over...\n",
    "            total_away_corners = 0                             # counts total corners taken by away team over...\n",
    "            \n",
    "            home_PPG_pre = match.iat[0,8]                      # home team pre-match points per game (PPG)\n",
    "            away_PPG_pre = match.iat[0,9]                      # away team pre-match points per game (PPG)\n",
    "            \n",
    "            \n",
    "            previous = 1                                       # counts up to \"past\"\n",
    "            \n",
    "            \n",
    "            while previous <= past:\n",
    "\n",
    "                home_match_prev = season.loc[(season['home_team_name'] == home_team) & (season['Game Week'] == week-previous)]   # picking out home team's previous match\n",
    "                h_sc_idx = 12       # home team score index\n",
    "                h_shon_idx = 32     # home shots on target index\n",
    "                h_corn_idx = 20     # home corners index\n",
    "                h_ppg_idx = 10\n",
    "                \n",
    "                away_match_prev = season.loc[(season['away_team_name'] == away_team) & (season['Game Week'] == week-previous)]   # picking out away team's previous match\n",
    "                a_sc_idx = 13       # away team score index\n",
    "                a_shon_idx = 33     # away team shots on target index\n",
    "                a_corn_idx = 21     # away corners index\n",
    "                a_ppg_idx = 11\n",
    "                \n",
    "                # if home team name was not found in 'home_team_name' column...\n",
    "                if (home_match_prev.size == 0):\n",
    "                    home_match_prev = season.loc[(season['away_team_name'] == home_team) & (season['Game Week'] == week-previous)]   # picking out home team's previous match\n",
    "                    h_sc_idx = 13      # home team score index\n",
    "                    h_shon_idx = 33    # home shots on target index\n",
    "                    h_corn_idx = 21    # home corners index\n",
    "                    h_ppg_idx = 11\n",
    "                    \n",
    "                # if away team name was not found in 'away_team_name' column...\n",
    "                if (away_match_prev.size == 0):\n",
    "                    away_match_prev = season.loc[(season['home_team_name'] == away_team) & (season['Game Week'] == week-previous)]   # picking out away team's previous match\n",
    "                    a_sc_idx = 12      # away team score index\n",
    "                    a_shon_idx = 32    # away team shots on target index\n",
    "                    a_corn_idx = 20    # away corners index\n",
    "                    a_ppg_idx = 10\n",
    "                    \n",
    "                # if loop is 1 match in the past...   \n",
    "                if previous == 1:\n",
    "                    home_PPG = home_match_prev.iat[0,h_ppg_idx]\n",
    "                    away_PPG = away_match_prev.iat[0,a_ppg_idx]\n",
    "                    \n",
    "                #print(home_team, 'goals scored in week', week-previous, '= ', home_match_prev.iat[0,h_sc_idx])\n",
    "                total_home_goals += home_match_prev.iat[0,h_sc_idx]\n",
    "                total_away_goals += away_match_prev.iat[0,a_sc_idx]\n",
    "                \n",
    "                #print(home_team, 'goals conceded in week', week-previous, '=', home_match_prev.iat[0,a_sc_idx])\n",
    "                total_home_conceded += home_match_prev.iat[0,a_sc_idx]\n",
    "                total_away_conceded += away_match_prev.iat[0,h_sc_idx]\n",
    "                \n",
    "                total_home_shotson += home_match_prev.iat[0,h_shon_idx]\n",
    "                total_away_shotson += away_match_prev.iat[0,a_shon_idx]\n",
    "                \n",
    "                total_home_corners += home_match_prev.iat[0,h_corn_idx]\n",
    "                total_away_corners += away_match_prev.iat[0,a_corn_idx]\n",
    "                \n",
    "                \n",
    "                previous += 1\n",
    "\n",
    "            in_idx = row_idx - (past*match_total)\n",
    "            input_season[in_idx][0] = total_home_goals/past          # input INDEX 0 (home team avg. goals over \"past\")\n",
    "            input_season[in_idx][1] = total_home_conceded/past       # input INDEX 1 (home team avg. conceded goals over \"past\")\n",
    "            input_season[in_idx][2] = home_PPG_pre                   # input INDEX 2 (home team pre-match PPG: PPG in current season)\n",
    "            input_season[in_idx][3] = home_PPG                       # input INDEX 3 (home team PPG including past seasons)\n",
    "            input_season[in_idx][4] = total_home_shotson/past        # input INDEX 4 (home team avg. shots on target over \"past\")\n",
    "            input_season[in_idx][5] = total_home_corners/past        # input INDEX 5 (home team avg. corner kicks over \"past\")\n",
    "            input_season[in_idx][6] = total_away_goals/past          # input INDEX 6 (away team avg. goals over \"past\")\n",
    "            input_season[in_idx][7] = total_away_conceded/past       # input INDEX 7 (away team avg. conceded goals over \"past\")\n",
    "            input_season[in_idx][8] = away_PPG_pre                   # input INDEX 8 (away team pre-match PPG: PPG in current season)\n",
    "            input_season[in_idx][9] = away_PPG                       # input INDEX 9 (away team PPG including past seasons)\n",
    "            input_season[in_idx][10] = total_away_shotson/past       # input INDEX 10 (away team avg. shots on target over \"past\")\n",
    "            input_season[in_idx][11] = total_away_corners/past       # input INDEX 11 (away team avg. corner kicks over \"past\")\n",
    "            input_season[in_idx][12] = result                        # label INDEX 12 (match result)\n",
    "            \n",
    "            row_idx += 1\n",
    "            match_count += 1\n",
    "\n",
    "        week += 1\n",
    "        \n",
    "    season_idx += 1\n",
    "    \n",
    "\n",
    "# SEASONS 1-8    ->  PREMIER LEAGUE (England)\n",
    "# SEASONS 9-16   ->  LA LIGA        (Spain)\n",
    "# SEASONS 17-23  ->  LIGUE 1        (France)\n",
    "# SEASONS 24-30  ->  SERIE-A        (Italy)\n",
    "# SEASONS 31-37  ->  BUNDESLIGA     (Germany)"
   ]
  },
  {
   "cell_type": "code",
   "execution_count": 5,
   "metadata": {
    "colab": {
     "base_uri": "https://localhost:8080/"
    },
    "id": "bNmJ7F2e0c8L",
    "outputId": "18fe3cc9-2615-4d29-c750-91a3a0905779"
   },
   "outputs": [
    {
     "name": "stdout",
     "output_type": "stream",
     "text": [
      "The numbers of match outcomes (Home Team Wins, Away Team Wins, Draws):\n",
      " 0.0    5654\n",
      "1.0    3643\n",
      "2.0    3156\n",
      "Name: outcome, dtype: int64\n",
      "2.0    3156\n",
      "1.0    3156\n",
      "0.0    3156\n",
      "Name: outcome, dtype: int64 \n",
      "\n"
     ]
    }
   ],
   "source": [
    "# Joining all season input data into one dataset\n",
    "data_full_np = np.concatenate((input_seasons), axis=0)\n",
    "\n",
    "# Turn numpy array back into pd.DataFrame\n",
    "columns = ['h_goals','h_conceded','h_prePPG','h_avgPPG','h_shotsOn','h_corners',\n",
    "           'a_goals','a_conceded','a_prePPG','a_avgPPG','a_shotsOn','a_corners',\n",
    "           'outcome']\n",
    "\n",
    "data_full = pd.DataFrame(data_full_np, columns=columns)\n",
    "\n",
    "#Print 'outcome' column sums to determine dataset balance\n",
    "print('The numbers of match outcomes (Home Team Wins, Away Team Wins, Draws):\\n', data_full[\"outcome\"].value_counts())\n",
    "\n",
    "#============================ BALANCE THE DATASET ==========================\n",
    "# draws are the under-represented class, so...\n",
    "# set home wins count = draws count\n",
    "# set away wins count = draws count\n",
    "\n",
    "data_full_home  = data_full[data_full[\"outcome\"]==0.0]\n",
    "data_full_away = data_full[data_full[\"outcome\"]==1.0]\n",
    "data_full_tie = data_full[data_full[\"outcome\"]==2.0]\n",
    "\n",
    "data_full_home = data_full_home.sample(len(data_full_tie), random_state=1)\n",
    "data_full_away = data_full_away.sample(len(data_full_tie), random_state=1)\n",
    "\n",
    "\n",
    "\n",
    "subsets = [data_full_home,data_full_away,data_full_tie]\n",
    "data_full = pd.concat(subsets)\n",
    "print(data_full[\"outcome\"].value_counts(),'\\n')\n",
    "\n",
    "data_full_np = data_full.values\n",
    "\n",
    "#==========================================================================\n",
    "\n",
    "# Get a better idea of what our data looks like BEFORE NORMALIZATION\n",
    "def verbose_print(data):     # helper function\n",
    "    with pd.option_context('display.max_rows', None, 'display.max_columns', None):\n",
    "        print(data.head())\n",
    "       \n",
    "# print(\"\\n \\n Data characteristics:\")\n",
    "# verbose_print(data_full.describe())\n",
    "\n",
    "# Turn 'outcome' column values into one hot-encoded form\n",
    "lb = LabelBinarizer()\n",
    "y = lb.fit_transform(data_full_np[:,12])   # y is vector of 1-hot encoded labels\n",
    "\n",
    "#y = data_full_np[:,12]\n",
    "#X = data_full_np[:,:12]                    # x is matrix of inputs (need to be normalized still)\n",
    "\n",
    "# Normalize continuous inputs\n",
    "X = data_full.drop(columns=['outcome'])\n",
    "\n",
    "\n",
    "for feature in X:\n",
    "  mean = X[feature].mean()\n",
    "  std = X[feature].std()\n",
    "  X[feature] = X[feature] - mean\n",
    "  X[feature] = X[feature]/std\n",
    "\n",
    "X = X.values\n",
    "X = train_test_split(X,test_size=infer_data_percent,random_state=1)\n",
    "y = train_test_split(y,test_size=infer_data_percent,random_state=1)\n",
    "\n",
    "X_train = X[0]  # extracting training inputs\n",
    "y_train = y[0]  # extracting training labels\n",
    "X_infer = train_test_split(X[1],test_size = test_data_percent,random_state=1) # splitting inputs into validation and test sets\n",
    "y_infer = train_test_split(y[1],test_size = test_data_percent,random_state=1) # splitting labels into validation and test sets"
   ]
  },
  {
   "cell_type": "markdown",
   "metadata": {
    "id": "P_QroHKoW2sd"
   },
   "source": [
    "## Multi-Layer Perceptron Model"
   ]
  },
  {
   "cell_type": "code",
   "execution_count": 6,
   "metadata": {
    "id": "uEdgVrZRW2sd"
   },
   "outputs": [],
   "source": [
    "class MultiLayerPerceptron(nn.Module):\n",
    "\n",
    "    def __init__(self, input_size, layer_sizes, act):\n",
    "        \n",
    "        # Current parameters are:\n",
    "        # input_size = size of input data vector\n",
    "        # layer_sizes = list of each layer size, last layer size MUST = 3, ex: [32,32,20,3]\n",
    "        \n",
    "        super(MultiLayerPerceptron, self).__init__()\n",
    "        \n",
    "        # setting layer sizes\n",
    "        self.linears = nn.ModuleList()\n",
    "        self.linears.append(nn.Linear(input_size,layer_sizes[0]))    # first layer created manually\n",
    "        for k in range(len(layer_sizes)-1):\n",
    "            self.linears.append(nn.Linear(layer_sizes[k], layer_sizes[k+1])) # creating all other layers\n",
    "            \n",
    "        # setting activation function\n",
    "        if act == 0:\n",
    "          self.act = nn.ReLU()\n",
    "        elif act == 1:  \n",
    "          self.act = nn.Tanh()\n",
    "        \n",
    "        self.out = nn.Softmax(dim=1)\n",
    "\n",
    "        ''' # manual method\n",
    "        self.fc2 = nn.Linear(32,32)\n",
    "        self.fc3 = nn.Linear(32,20)\n",
    "        self.fc4 = nn.Linear(20,3) \n",
    "        '''\n",
    "\n",
    "    def forward(self, x):\n",
    "        \n",
    "        layer_count = len(self.linears)\n",
    "        \n",
    "        for i in range(layer_count-1):\n",
    "            x = self.act(self.linears[i](x))\n",
    "        \n",
    "        x = self.out(self.linears[layer_count-1](x))\n",
    "      \n",
    "        ''' # manual method\n",
    "        x = F.relu(self.fc1(x))\n",
    "        x = F.relu(self.fc2(x))\n",
    "        x = F.relu(self.fc3(x))\n",
    "        x = torch.sigmoid(self.fc4(x))\n",
    "        '''\n",
    "        return x"
   ]
  },
  {
   "cell_type": "markdown",
   "metadata": {
    "id": "bK461FjGZrXc"
   },
   "source": [
    "### Helper Functions"
   ]
  },
  {
   "cell_type": "markdown",
   "metadata": {
    "id": "qE-dBefR_wCv"
   },
   "source": [
    "#### Dataloader creation\n"
   ]
  },
  {
   "cell_type": "code",
   "execution_count": 7,
   "metadata": {
    "id": "Bf7SrNHz_xq7"
   },
   "outputs": [],
   "source": [
    "# MatchDataset turns matrix-style datasets into map-style datasets\n",
    "class MatchDataset(torch.utils.data.Dataset):\n",
    "\n",
    "    def __init__(self, X, y):\n",
    "        self.X = X\n",
    "        self.y = y\n",
    "\n",
    "    def __len__(self):\n",
    "        return len(self.X)\n",
    "\n",
    "    def __getitem__(self, index):\n",
    "        return self.X[index],self.y[index]\n",
    "    \n",
    "\n",
    "def load_data(batch_size):\n",
    "\n",
    "    train_dataset = MatchDataset(X_train,y_train)\n",
    "    valid_dataset = MatchDataset(X_infer[0],y_infer[0])\n",
    "    test_dataset = MatchDataset(X_infer[1],y_infer[1])\n",
    "\n",
    "    train_loader = torch.utils.data.DataLoader(train_dataset, batch_size=batch_size, shuffle=True)\n",
    "    valid_loader = torch.utils.data.DataLoader(valid_dataset, batch_size=batch_size, shuffle=True)\n",
    "    test_loader = torch.utils.data.DataLoader(test_dataset, batch_size=batch_size, shuffle=True) \n",
    "\n",
    "    return train_loader, valid_loader, test_loader\n",
    "\n",
    "\n",
    "\n"
   ]
  },
  {
   "cell_type": "markdown",
   "metadata": {
    "id": "2M0Mu74T_7V0"
   },
   "source": [
    "#### Get prediction from output"
   ]
  },
  {
   "cell_type": "code",
   "execution_count": 8,
   "metadata": {
    "id": "tnXEA5wlAAUu"
   },
   "outputs": [],
   "source": [
    "def get_preds(z):\n",
    "  \n",
    "  out = np.zeros(z.shape)\n",
    "  #inputs: output of model\n",
    "  #outputs: corresponding output to prediction\n",
    "  max_idxs = torch.max(z,1)[1]\n",
    "  for entry,idx in enumerate(max_idxs,0):\n",
    "      for val in range(3):\n",
    "        if val == idx:\n",
    "          out[entry][val] = 1\n",
    "\n",
    "  return out"
   ]
  },
  {
   "cell_type": "markdown",
   "metadata": {
    "id": "ErVMQAJVfGi6"
   },
   "source": [
    "#### Accuracy function"
   ]
  },
  {
   "cell_type": "code",
   "execution_count": 9,
   "metadata": {
    "id": "5GGnhmzFZzpc"
   },
   "outputs": [],
   "source": [
    "def accuracy(preds, labels):\n",
    "    #inputs: preds: array, labels:array \n",
    "    #output: overall accuracy\n",
    "    \n",
    "    correct = 0\n",
    "    \n",
    "    '''   # for BCEwithLogitsLoss\n",
    "    for batch in range(len(preds)):\n",
    "        idx = labels[batch].int()\n",
    "        if (preds[batch][idx] == 1):\n",
    "            correct += 1\n",
    "    '''\n",
    "    for batch in range(len(preds)):\n",
    "        for i in range(3):\n",
    "            if (preds[batch][i] == 1) and (labels[batch][i] == 1):\n",
    "                correct += 1     \n",
    "    \n",
    "    return (correct/len(preds))"
   ]
  },
  {
   "cell_type": "markdown",
   "metadata": {
    "id": "kJlCum_EBNLh"
   },
   "source": [
    "#### Validate "
   ]
  },
  {
   "cell_type": "code",
   "execution_count": 10,
   "metadata": {
    "id": "H8PwjiNodBWz"
   },
   "outputs": [],
   "source": [
    "def validate(model,val_loader,loss_fcn,epoch_train):\n",
    "    \n",
    "    mini_conf_matrix = [[0]*3]*3\n",
    "    \n",
    "    val_acc=[]\n",
    "    val_loss=[]\n",
    "\n",
    "    for i,data in enumerate(val_loader,0): #iterate over val_loader, start idx=0\n",
    "\n",
    "        inputs,labels = data\n",
    "\n",
    "        z = model(inputs.float())  #z is size=3 \n",
    "\n",
    "        preds = get_preds(z) #preds used for accuracy\n",
    "\n",
    "        loss = loss_fcn(input=z, target=labels.float())  # FOR MSE LOSS\n",
    "\n",
    "        val_acc.append(accuracy(preds,labels))\n",
    "        val_loss.append(loss.item())\n",
    "\n",
    "        if epoch_train > 1:\n",
    "            labels_true = np.argmax(labels, axis=1)\n",
    "            labels_pred = np.argmax(preds, axis=1)    \n",
    "            mini_conf_matrix += confusion_matrix(labels_true, labels_pred, labels=[0,1,2])\n",
    "       \n",
    "    ValLoss = sum(val_loss)/len(val_loss)\n",
    "    ValAcc = sum(val_acc) / len(val_acc)\n",
    "  \n",
    "    return ValAcc, ValLoss, mini_conf_matrix"
   ]
  },
  {
   "cell_type": "code",
   "execution_count": 11,
   "metadata": {},
   "outputs": [],
   "source": [
    "def test(model,test_loader,loss_fcn):\n",
    "    \n",
    "    mini_conf_matrix = [[0]*3]*3\n",
    "    \n",
    "    val_acc=[]\n",
    "    val_loss=[]\n",
    "    for epoch in range(0,20):\n",
    "        for i,data in enumerate(test_loader,0): #iterate over val_loader, start idx=0\n",
    "\n",
    "            inputs,labels = data\n",
    "\n",
    "            z = model(inputs.float())  #z is size=3 \n",
    "\n",
    "            preds = get_preds(z) #preds used for accuracy\n",
    "\n",
    "            loss = loss_fcn(input=z, target=labels.float())  # FOR MSE LOSS\n",
    "\n",
    "            val_acc.append(accuracy(preds,labels))\n",
    "            val_loss.append(loss.item())\n",
    "\n",
    "\n",
    "            labels_true = np.argmax(labels, axis=1)\n",
    "            labels_pred = np.argmax(preds, axis=1)    \n",
    "            mini_conf_matrix += confusion_matrix(labels_true, labels_pred, labels=[0,1,2])\n",
    "\n",
    "        ValLoss = sum(val_loss)/len(val_loss)\n",
    "        ValAcc = sum(val_acc) / len(val_acc)\n",
    "  \n",
    "    return ValAcc, ValLoss, mini_conf_matrix"
   ]
  },
  {
   "cell_type": "markdown",
   "metadata": {
    "id": "WbQCrISXWN46"
   },
   "source": [
    "#### Plotting Function"
   ]
  },
  {
   "cell_type": "code",
   "execution_count": 12,
   "metadata": {
    "id": "Sd9apCNOWOHQ"
   },
   "outputs": [],
   "source": [
    "def plot(epoch, train_var, val_var,xlabel,ylabel):\n",
    "    plt.plot(epoch, train_var, label = 'train')\n",
    "    plt.plot(epoch, val_var, label = 'validation')\n",
    "    plt.title(str(ylabel) + ' vs. '+ str(xlabel))\n",
    "    plt.xlabel(str(xlabel))\n",
    "    plt.ylabel(str(ylabel))\n",
    "    plt.legend()\n",
    "    plt.show()"
   ]
  },
  {
   "cell_type": "markdown",
   "metadata": {
    "id": "7kAaa_MEjVrw"
   },
   "source": [
    "#### MLP loader"
   ]
  },
  {
   "cell_type": "code",
   "execution_count": 13,
   "metadata": {
    "id": "Q3vF0n-IjUwj"
   },
   "outputs": [],
   "source": [
    "def load_MLP(lr):\n",
    "    \n",
    "    #add optimizer,loss functions as a hyperparameters\n",
    "    model = MultiLayerPerceptron(input_size,layer_sizes,act)\n",
    "    optimizer = torch.optim.SGD(model.parameters(),lr=lr,weight_decay=weight_decay)\n",
    "\n",
    "    if loss_fcn_toggle == 0:\n",
    "        loss_fcn = nn.MSELoss()\n",
    "    if loss_fcn_toggle == 1:\n",
    "        loss_fcn = nn.BCELoss()\n",
    "    \n",
    "    return model,optimizer,loss_fcn"
   ]
  },
  {
   "cell_type": "markdown",
   "metadata": {
    "id": "ZfaT7X6ZiWn_"
   },
   "source": [
    "##Training Loop"
   ]
  },
  {
   "cell_type": "code",
   "execution_count": 14,
   "metadata": {
    "id": "18YWlXsYim9y",
    "scrolled": true
   },
   "outputs": [
    {
     "name": "stdout",
     "output_type": "stream",
     "text": [
      "Epoch: 1\n",
      "train acc: 0.39025496562261264\n",
      "val acc: 0.4493464052287582\n",
      "train loss: 0.21971916000382238\n",
      "val loss: 0.21564962863922119\n",
      "Epoch: 2\n",
      "train acc: 0.4507734912146677\n",
      "val acc: 0.4704452614379085\n",
      "train loss: 0.21259450762211776\n",
      "val loss: 0.20920202235380808\n",
      "Epoch: 3\n",
      "train acc: 0.4610150878533231\n",
      "val acc: 0.4709763071895425\n",
      "train loss: 0.20805505656895518\n",
      "val loss: 0.20585329830646515\n",
      "Epoch: 4\n",
      "train acc: 0.4652525783040489\n",
      "val acc: 0.47383578431372547\n",
      "train loss: 0.20628636299061173\n",
      "val loss: 0.2045310656229655\n",
      "Epoch: 5\n",
      "train acc: 0.46960943468296407\n",
      "val acc: 0.4761846405228758\n",
      "train loss: 0.20528928346994543\n",
      "val loss: 0.20425807734330495\n",
      "Epoch: 6\n",
      "train acc: 0.47131636745607336\n",
      "val acc: 0.4772058823529412\n",
      "train loss: 0.20505487042314866\n",
      "val loss: 0.20427534878253936\n",
      "Epoch: 7\n",
      "train acc: 0.46944232238349887\n",
      "val acc: 0.48425245098039216\n",
      "train loss: 0.2051553952844203\n",
      "val loss: 0.20369574228922527\n",
      "Epoch: 8\n",
      "train acc: 0.4739901642475172\n",
      "val acc: 0.47877859477124185\n",
      "train loss: 0.2049117800818772\n",
      "val loss: 0.20392759442329406\n",
      "Epoch: 9\n",
      "train acc: 0.47464667685255924\n",
      "val acc: 0.4792687908496732\n",
      "train loss: 0.20478407450082922\n",
      "val loss: 0.20427531599998475\n",
      "Epoch: 10\n",
      "train acc: 0.47222354851031323\n",
      "val acc: 0.47669526143790847\n",
      "train loss: 0.2049285105797423\n",
      "val loss: 0.20409114758173624\n",
      "Epoch: 11\n",
      "train acc: 0.4751599503437739\n",
      "val acc: 0.4787377450980392\n",
      "train loss: 0.20461855565800385\n",
      "val loss: 0.20404978295167286\n",
      "Epoch: 12\n",
      "train acc: 0.4736320664629488\n",
      "val acc: 0.48137254901960785\n",
      "train loss: 0.20460061766520268\n",
      "val loss: 0.20390297174453736\n",
      "Epoch: 13\n",
      "train acc: 0.4727368220015279\n",
      "val acc: 0.4855392156862745\n",
      "train loss: 0.20475713933716302\n",
      "val loss: 0.20384860138098398\n",
      "Total training time: 13.902956247329712\n"
     ]
    },
    {
     "data": {
      "image/png": "[encoded data removed]",
      "text/plain": [
       "<Figure size 432x288 with 1 Axes>"
      ]
     },
     "metadata": {
      "needs_background": "light"
     },
     "output_type": "display_data"
    },
    {
     "data": {
      "image/png": "[encoded data removed]",
      "text/plain": [
       "<Figure size 432x288 with 1 Axes>"
      ]
     },
     "metadata": {
      "needs_background": "light"
     },
     "output_type": "display_data"
    },
    {
     "name": "stdout",
     "output_type": "stream",
     "text": [
      "Max training accuracy 0.4751599503437739\n",
      "Min training loss 0.20460061766520268 \n",
      "\n",
      "Max Validation accuracy 0.4855392156862745\n",
      "Min Validation loss 0.20369574228922527 \n",
      "\n",
      "Test accuracy 0.47487108479755535\n",
      "Test loss 0.20433433633141157 \n",
      "\n",
      "\n",
      " FINAL CONFUSION MATRIX: \n",
      " [[29040 10920 10540]\n",
      " [10780 29400 10160]\n",
      " [18360 18800 13480]]\n"
     ]
    }
   ],
   "source": [
    "def train(rseed,lr,num_epochs):\n",
    "\n",
    "    torch.manual_seed(rseed)\n",
    "\n",
    "    model,optimizer,loss_fcn = load_MLP(lr)   #initialize model\n",
    "    \n",
    "    train_loader, valid_loader, test_loader = load_data(batch_size) # get dataloaders\n",
    "\n",
    "    # records for plotting \n",
    "    TrainAccRec = []\n",
    "    TrainLossRec = []\n",
    "    ValAccRec = []  \n",
    "    ValLossRec = []\n",
    "    \n",
    "    conf_matrix = [[0]*3]*3\n",
    "    \n",
    "    tic = time()\n",
    " \n",
    "# ========================================TRAINING LOOP =========================================# \n",
    "    for epoch in range(0,num_epochs):\n",
    "        batch_count = 0\n",
    "        train_acc_sum = 0\n",
    "        train_loss_sum = 0\n",
    "        for i,data in enumerate(train_loader,0): #iterate over train_loader, start idx=0\n",
    "            inputs,labels = data\n",
    "\n",
    "            optimizer.zero_grad()  #initialize the gradients to zero  \n",
    "\n",
    "            z = model(inputs.float())  #z is size=3\n",
    "\n",
    "            preds = get_preds(z) #preds used for accuracy\n",
    "            \n",
    "            loss = loss_fcn(input=z, target=labels.float())\n",
    "\n",
    "            loss.backward() #get gradients \n",
    "\n",
    "            optimizer.step() #update parameters\n",
    "\n",
    "            train_acc = accuracy(preds,labels)\n",
    "            train_loss = loss.item()\n",
    "\n",
    "            #add to overall records\n",
    "            train_acc_sum += train_acc\n",
    "            train_loss_sum += train_loss\n",
    "            \n",
    "            batch_count += 1\n",
    "\n",
    "        TrainAccRec.append(train_acc_sum/batch_count)\n",
    "        TrainLossRec.append(train_loss_sum/batch_count)\n",
    "        val_acc, val_loss, mini_conf_matrix = validate(model,valid_loader,loss_fcn,epoch)\n",
    "        ValAccRec.append(val_acc)\n",
    "        ValLossRec.append(val_loss)\n",
    "        #conf_matrix = np.add(conf_matrix, mini_conf_matrix)\n",
    "        #print(conf_matrix)\n",
    "        \n",
    "        print(\"Epoch:\",epoch+1)\n",
    "        print(\"train acc:\",train_acc_sum/batch_count)\n",
    "        print(\"val acc:\",val_acc)\n",
    "        print(\"train loss:\", train_loss_sum/batch_count)\n",
    "        print(\"val loss:\", val_loss)\n",
    "\n",
    "    toc = time()\n",
    "    print(\"Total training time:\", toc-tic)\n",
    "\n",
    "    test_acc, test_loss, conf_matrix = test(model,train_loader,loss_fcn)\n",
    "\n",
    "    \n",
    "    #plottting\n",
    "    e = np.arange(0,num_epochs)\n",
    "    plot(e,TrainAccRec,ValAccRec,'Epoch','Accuracy')\n",
    "    plot(e,TrainLossRec,ValLossRec,'Epoch','Loss')\n",
    "    print(\"Max training accuracy\",max(TrainAccRec))\n",
    "    print(\"Min training loss\",min(TrainLossRec),\"\\n\")\n",
    "    print(\"Max Validation accuracy\",max(ValAccRec))\n",
    "    print(\"Min Validation loss\",min(ValLossRec),\"\\n\")\n",
    "    print(\"Test accuracy\",test_acc)\n",
    "    print(\"Test loss\",test_loss,\"\\n\")\n",
    "    \n",
    "    print('\\n FINAL CONFUSION MATRIX: \\n',conf_matrix)\n",
    "    \n",
    "    #torch.save(model.state_dict(),'MatchPredictor_WeightDecayBest.pt')\n",
    " \n",
    "\n",
    "train(rseed,lr,num_epochs)  "
   ]
  },
  {
   "cell_type": "code",
   "execution_count": null,
   "metadata": {},
   "outputs": [],
   "source": []
  }
 ],
 "metadata": {
  "colab": {
   "collapsed_sections": [
    "kJlCum_EBNLh",
    "WbQCrISXWN46"
   ],
   "name": "MatchPredictor_MLP.ipynb",
   "provenance": [],
   "toc_visible": true
  },
  "kernelspec": {
   "display_name": "Python 3",
   "language": "python",
   "name": "python3"
  },
  "language_info": {
   "codemirror_mode": {
    "name": "ipython",
    "version": 3
   },
   "file_extension": ".py",
   "mimetype": "text/x-python",
   "name": "python",
   "nbconvert_exporter": "python",
   "pygments_lexer": "ipython3",
   "version": "3.8.3"
  }
 },
 "nbformat": 4,
 "nbformat_minor": 1
}
