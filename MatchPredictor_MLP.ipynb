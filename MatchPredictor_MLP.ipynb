{
  "nbformat": 4,
  "nbformat_minor": 0,
  "metadata": {
    "kernelspec": {
      "display_name": "Python 3",
      "language": "python",
      "name": "python3"
    },
    "language_info": {
      "codemirror_mode": {
        "name": "ipython",
        "version": 3
      },
      "file_extension": ".py",
      "mimetype": "text/x-python",
      "name": "python",
      "nbconvert_exporter": "python",
      "pygments_lexer": "ipython3",
      "version": "3.8.3"
    },
    "colab": {
      "name": "MatchPredictor_MLP-checkpoint.ipynb",
      "provenance": [],
      "collapsed_sections": [
        "Is0DNAr7W2sc",
        "A3RvsJpwW2sc",
        "m_1ZIfpIW2sc",
        "ErVMQAJVfGi6"
      ]
    }
  },
  "cells": [
    {
      "cell_type": "markdown",
      "metadata": {
        "id": "J4WnfXTuW2sb"
      },
      "source": [
        "# MatchPredictor\n",
        "\n",
        "### A neural network which predicts the outcomes of Premier League football matches"
      ]
    },
    {
      "cell_type": "markdown",
      "metadata": {
        "id": "A4uLPYGzW2sb"
      },
      "source": [
        "#### Importing Libraries & Packages"
      ]
    },
    {
      "cell_type": "code",
      "metadata": {
        "id": "L3D867YUW2sb"
      },
      "source": [
        "import numpy as np\n",
        "\n",
        "import torch\n",
        "import torch.nn as nn\n",
        "import torch.nn.functional as F\n",
        "\n",
        "import pandas as pd"
      ],
      "execution_count": 2,
      "outputs": []
    },
    {
      "cell_type": "markdown",
      "metadata": {
        "id": "ukm7le4QW2sc"
      },
      "source": [
        "#### Hyperparameters"
      ]
    },
    {
      "cell_type": "code",
      "metadata": {
        "id": "1k1mUJUiW2sc"
      },
      "source": [
        "past = 5    # How many past games are taken into account for team form calculations\n",
        "rseed = 1 \n",
        "num_epoch = 100\n",
        "            #add num hidden layers, optimizer loss fcn\n",
        "lr = 0.01 "
      ],
      "execution_count": null,
      "outputs": []
    },
    {
      "cell_type": "markdown",
      "metadata": {
        "id": "Is0DNAr7W2sc"
      },
      "source": [
        "#### Importing Match Data"
      ]
    },
    {
      "cell_type": "code",
      "metadata": {
        "id": "fC0-M0RiW2sc"
      },
      "source": [
        "# Imported CSV becomes a pandas dataframe object\n",
        "data_20 = pd.read_csv(\"Prem_data_19-20\\england-premier-league-matches-2019-to-2020-stats.csv\")\n",
        "data_19 = pd.read_csv(\"Prem_data_18-19\\england-premier-league-matches-2018-to-2019-stats.csv\")\n",
        "data_18 = pd.read_csv(\"Prem_data_17-18\\england-premier-league-matches-2017-to-2018-stats.csv\")\n",
        "data_17 = pd.read_csv(\"Prem_data_16-17\\england-premier-league-matches-2016-to-2017-stats.csv\")\n",
        "data_16 = pd.read_csv(\"Prem_data_15-16\\england-premier-league-matches-2015-to-2016-stats.csv\")\n",
        "\n",
        "data = [data_20, data_19, data_18, data_17, data_16]"
      ],
      "execution_count": null,
      "outputs": []
    },
    {
      "cell_type": "markdown",
      "metadata": {
        "id": "A3RvsJpwW2sc"
      },
      "source": [
        "#### Preprocessing Data"
      ]
    },
    {
      "cell_type": "code",
      "metadata": {
        "id": "xfPv2lB9W2sc",
        "outputId": "c4d1f216-f8f4-4d9b-838c-12cc97bc1e94"
      },
      "source": [
        "'''\n",
        "# Set up empty matrices to be filled with INPUTS\n",
        "\n",
        "# Each row represents the inputs that describe a match\n",
        "# The first \"past\" weeks from each season cannot be used in training/testing as they have no previous matches to get data from\n",
        "# Note: \"past\" is an hyperparameter (integer)\n",
        "\n",
        "in_20 = np.zeros((380-(past*10),12))\n",
        "in_19 = np.zeros((380-(past*10),12))\n",
        "in_18 = np.zeros((380-(past*10),12))\n",
        "in_17 = np.zeros((380-(past*10),12))\n",
        "in_16 = np.zeros((380-(past*10),12))\n",
        "\n",
        "\n",
        "# Computing average goals scored per game over last \"past\" games\n",
        "#for season in data:\n",
        "\n",
        "season = data_20\n",
        "week = past + 1\n",
        "\n",
        "while week < 39:\n",
        "    row_idx = (week-1)*10             # index of the first match of new week\n",
        "    match_count = 0                   # counting the 10 matches played in a given week\n",
        "\n",
        "    while match_count < 10:\n",
        "       # match = season.iloc[[row_idx]]\n",
        "        home_team = season.at[row_idx,'home_team_name']    # saving home team name\n",
        "        total_home_goals = 0                               # counting the total goals scored by the home team over \"past\" matches\n",
        "        previous = 1                                       # index used to keep track of how many past matches have been looked at\n",
        "\n",
        "        while previous <= past:\n",
        "    \n",
        "            home_match_prev = season.loc[(season['home_team_name'] == home_team) & (season['Game Week'] == week-previous)]   # picking out home team's previous match\n",
        "            hsc_idx = 12\n",
        "    \n",
        "            if (home_match_prev.size == 0):\n",
        "                home_match_prev = season.loc[(season['away_team_name'] == home_team) & (season['Game Week'] == week-previous)]   # picking out home team's previous match\n",
        "                hsc_idx = 13\n",
        "            \n",
        "            print(home_team, 'goals scored in week', week-previous, '= ', home_match_prev.iat[0,hsc_idx])\n",
        "            total_home_goals += home_match_prev.iat[0,hsc_idx]\n",
        "            previous += 1\n",
        "        \n",
        "        in_idx = row_idx - (past*10)\n",
        "        in_20[in_idx][0] = total_home_goals/past\n",
        "        row_idx += 1\n",
        "        match_count += 1\n",
        "\n",
        "    week += 1\n",
        "        \n",
        "        \n",
        "print(in_20) \n",
        "''' "
      ],
      "execution_count": null,
      "outputs": [
        {
          "output_type": "execute_result",
          "data": {
            "text/plain": [
              "'\\n# Set up empty matrices to be filled with INPUTS\\n\\n# Each row represents the inputs that describe a match\\n# The first \"past\" weeks from each season cannot be used in training/testing as they have no previous matches to get data from\\n# Note: \"past\" is an hyperparameter (integer)\\n\\nin_20 = np.zeros((380-(past*10),12))\\nin_19 = np.zeros((380-(past*10),12))\\nin_18 = np.zeros((380-(past*10),12))\\nin_17 = np.zeros((380-(past*10),12))\\nin_16 = np.zeros((380-(past*10),12))\\n\\n\\n# Computing average goals scored per game over last \"past\" games\\n#for season in data:\\n\\nseason = data_20\\nweek = past + 1\\n\\nwhile week < 39:\\n    row_idx = (week-1)*10             # index of the first match of new week\\n    match_count = 0                   # counting the 10 matches played in a given week\\n\\n    while match_count < 10:\\n       # match = season.iloc[[row_idx]]\\n        home_team = season.at[row_idx,\\'home_team_name\\']    # saving home team name\\n        total_home_goals = 0                               # counting the total goals scored by the home team over \"past\" matches\\n        previous = 1                                       # index used to keep track of how many past matches have been looked at\\n\\n        while previous <= past:\\n    \\n            home_match_prev = season.loc[(season[\\'home_team_name\\'] == home_team) & (season[\\'Game Week\\'] == week-previous)]   # picking out home team\\'s previous match\\n            hsc_idx = 12\\n    \\n            if (home_match_prev.size == 0):\\n                home_match_prev = season.loc[(season[\\'away_team_name\\'] == home_team) & (season[\\'Game Week\\'] == week-previous)]   # picking out home team\\'s previous match\\n                hsc_idx = 13\\n            \\n            print(home_team, \\'goals scored in week\\', week-previous, \\'= \\', home_match_prev.iat[0,hsc_idx])\\n            total_home_goals += home_match_prev.iat[0,hsc_idx]\\n            previous += 1\\n        \\n        in_idx = row_idx - (past*10)\\n        in_20[in_idx][0] = total_home_goals/past\\n        row_idx += 1\\n        match_count += 1\\n\\n    week += 1\\n        \\n        \\nprint(in_20) \\n'"
            ]
          },
          "metadata": {
            "tags": []
          },
          "execution_count": 4
        }
      ]
    },
    {
      "cell_type": "markdown",
      "metadata": {
        "id": "m_1ZIfpIW2sc"
      },
      "source": [
        "#### DATA PREPROCSESSING  \n",
        "  \n",
        "Here we create the inputs for our model from the raw .csv files we collected from *footystats.org*.  \n",
        "  \n",
        "- Each season will be represented by a matrix.  \n",
        "- Each row of this matrix will consist of the inputs that describe a single match to the neural net.  \n",
        "  \n",
        "In each row, the entries are as follows:  \n",
        "*Note: **past** is an integer hyperparameter*  \n",
        "  \n",
        "**Index 0**: Home team average goals scored per game over last **past** games.  \n",
        "**Index 1**:  Home team average goals conceded per game over last **past** games.  \n",
        "**Index 2**:  Home team pre-match PPG.  \n",
        "**Index 3**:  Home team ppg from last game (so current game isn’t included).  \n",
        "**Index 4**:  Home team average number of shots on target over last **past** games.  \n",
        "**Index 5**:  Home team average number of corners over last **past** games.  \n",
        "**Index 6**:  Away team average goals scored per game over last **past** games.  \n",
        "**Index 7**:  Away team average goals conceded per game over last **past** games.  \n",
        "**Index 8**:  Away team pre-match PPG.  \n",
        "**Index 9**:  Away team ppg from last game (so current game isn’t included).  \n",
        "**Index 10**:  Away team average number of shots on target over last **past** games.  \n",
        "**Index 11**:  Away team average number of corners over last **past** games.  \n",
        "**Index 12 (LABEL)**:  0 if Home Team won, 1 if Away Team won.  \n",
        "  \n",
        "  \n",
        "*NOTE: The first \"past\" weeks from each season cannot be used in training/testing as they have no previous matches to get data from.*"
      ]
    },
    {
      "cell_type": "code",
      "metadata": {
        "id": "Amz4WMIWW2sc",
        "outputId": "e68782e8-7503-4db5-9152-94df01af2299"
      },
      "source": [
        "# Set up empty matrices to be filled with INPUTS.\n",
        "# Once filled with values, each row will represent the inputs that describe a match to the NN.\n",
        "    \n",
        "    \n",
        "in_20 = np.zeros((380-(past*10),12))\n",
        "in_19 = np.zeros((380-(past*10),12))\n",
        "in_18 = np.zeros((380-(past*10),12))\n",
        "in_17 = np.zeros((380-(past*10),12))\n",
        "in_16 = np.zeros((380-(past*10),12))\n",
        "\n",
        "input_seasons = [in_20, in_19, in_18, in_17, in_16]\n",
        "\n",
        "\n",
        "season_idx = 0\n",
        "for season in data:\n",
        "\n",
        "    week = past + 1\n",
        "    input_season = input_seasons[season_idx]\n",
        "\n",
        "    while week < 39:\n",
        "        row_idx = (week-1)*10             # index of the first match of new week\n",
        "        match_count = 0                   # counting the 10 matches played in a given week\n",
        "\n",
        "        while match_count < 10:\n",
        "           # match = season.iloc[[row_idx]]\n",
        "            home_team = season.at[row_idx,'home_team_name']    # saving home team name\n",
        "            total_home_goals = 0                               # counting the total goals scored by the home team over \"past\" matches\n",
        "            previous = 1                                       # index used to keep track of how many past matches have been looked at\n",
        "\n",
        "            while previous <= past:\n",
        "\n",
        "                home_match_prev = season.loc[(season['home_team_name'] == home_team) & (season['Game Week'] == week-previous)]   # picking out home team's previous match\n",
        "                hsc_idx = 12\n",
        "\n",
        "                if (home_match_prev.size == 0):\n",
        "                    home_match_prev = season.loc[(season['away_team_name'] == home_team) & (season['Game Week'] == week-previous)]   # picking out home team's previous match\n",
        "                    hsc_idx = 13\n",
        "\n",
        "                #print(home_team, 'goals scored in week', week-previous, '= ', home_match_prev.iat[0,hsc_idx])\n",
        "                total_home_goals += home_match_prev.iat[0,hsc_idx]\n",
        "                previous += 1\n",
        "\n",
        "            in_idx = row_idx - (past*10)\n",
        "            input_season[in_idx][0] = total_home_goals/past\n",
        "            row_idx += 1\n",
        "            match_count += 1\n",
        "\n",
        "        week += 1\n",
        "        \n",
        "    season_idx += 1\n",
        "        \n",
        "print('19/20 season input matrix: \\n', in_20, '\\n')\n",
        "print('18/19 season input matrix: \\n', in_19, '\\n')\n",
        "print('17/18 season input matrix: \\n', in_18, '\\n')\n",
        "print('16/17 season input matrix: \\n', in_17, '\\n')\n",
        "print('15/16 season input matrix: \\n', in_16, '\\n')"
      ],
      "execution_count": null,
      "outputs": [
        {
          "output_type": "stream",
          "text": [
            "19/20 season input matrix (row = match): \n",
            " [[1.  0.  0.  ... 0.  0.  0. ]\n",
            " [1.2 0.  0.  ... 0.  0.  0. ]\n",
            " [1.2 0.  0.  ... 0.  0.  0. ]\n",
            " ...\n",
            " [0.8 0.  0.  ... 0.  0.  0. ]\n",
            " [1.4 0.  0.  ... 0.  0.  0. ]\n",
            " [2.  0.  0.  ... 0.  0.  0. ]] \n",
            "\n",
            "18/19 season input matrix (row = match): \n",
            " [[1.4 0.  0.  ... 0.  0.  0. ]\n",
            " [0.6 0.  0.  ... 0.  0.  0. ]\n",
            " [0.6 0.  0.  ... 0.  0.  0. ]\n",
            " ...\n",
            " [1.6 0.  0.  ... 0.  0.  0. ]\n",
            " [1.  0.  0.  ... 0.  0.  0. ]\n",
            " [1.4 0.  0.  ... 0.  0.  0. ]] \n",
            "\n",
            "17/18 season input matrix (row = match): \n",
            " [[0.8 0.  0.  ... 0.  0.  0. ]\n",
            " [1.2 0.  0.  ... 0.  0.  0. ]\n",
            " [0.4 0.  0.  ... 0.  0.  0. ]\n",
            " ...\n",
            " [0.4 0.  0.  ... 0.  0.  0. ]\n",
            " [1.2 0.  0.  ... 0.  0.  0. ]\n",
            " [1.2 0.  0.  ... 0.  0.  0. ]] \n",
            "\n",
            "16/17 season input matrix (row = match): \n",
            " [[1.6 0.  0.  ... 0.  0.  0. ]\n",
            " [0.6 0.  0.  ... 0.  0.  0. ]\n",
            " [2.2 0.  0.  ... 0.  0.  0. ]\n",
            " ...\n",
            " [0.8 0.  0.  ... 0.  0.  0. ]\n",
            " [1.2 0.  0.  ... 0.  0.  0. ]\n",
            " [0.2 0.  0.  ... 0.  0.  0. ]] \n",
            "\n",
            "15/16 season input matrix (row = match): \n",
            " [[1.4 0.  0.  ... 0.  0.  0. ]\n",
            " [1.4 0.  0.  ... 0.  0.  0. ]\n",
            " [0.6 0.  0.  ... 0.  0.  0. ]\n",
            " ...\n",
            " [1.4 0.  0.  ... 0.  0.  0. ]\n",
            " [0.6 0.  0.  ... 0.  0.  0. ]\n",
            " [1.  0.  0.  ... 0.  0.  0. ]] \n",
            "\n"
          ],
          "name": "stdout"
        }
      ]
    },
    {
      "cell_type": "markdown",
      "metadata": {
        "id": "P_QroHKoW2sd"
      },
      "source": [
        "## Multi-Layer Perceptron Model"
      ]
    },
    {
      "cell_type": "code",
      "metadata": {
        "id": "uEdgVrZRW2sd"
      },
      "source": [
        "import torch.nn as nn\n",
        "import torch.nn.functional as F\n",
        "\n",
        "class MultiLayerPerceptron(nn.Module):\n",
        "\n",
        "    def __init__(self, input_size):\n",
        "\n",
        "        super(MultiLayerPerceptron, self).__init__()\n",
        "\n",
        "        self.fc1 = nn.Linear(input_size,64)\n",
        "        self.fc2 = nn.Linear(64,64)\n",
        "        self.fc3 = nn.Linear(64,64)\n",
        "        self.fc4 = nn.Linear(64,3)   #output is 3 classes for home win, away win, tie\n",
        "\n",
        "    def forward(self, features):\n",
        "\n",
        "        features = F.relu(self.fc1(features))\n",
        "        features = F.relu(self.fc2(features))\n",
        "        features = F.relu(self.fc3(features))\n",
        "        features = F.relu(self.fc4(features))\n",
        "        features = torch.sigmoid(features)\n",
        "\n",
        "        return features"
      ],
      "execution_count": 11,
      "outputs": []
    },
    {
      "cell_type": "markdown",
      "metadata": {
        "id": "bK461FjGZrXc"
      },
      "source": [
        "###Helper Functions"
      ]
    },
    {
      "cell_type": "markdown",
      "metadata": {
        "id": "2M0Mu74T_7V0"
      },
      "source": [
        "#### Get prediction from output"
      ]
    },
    {
      "cell_type": "code",
      "metadata": {
        "colab": {
          "base_uri": "https://localhost:8080/"
        },
        "id": "tnXEA5wlAAUu",
        "outputId": "c66bbc4b-2fd5-4d21-daaa-2d701e0bc1df"
      },
      "source": [
        "def get_preds(z):\n",
        "  dims = z.size()\n",
        "  out = np.zeros(dims)\n",
        "  #inputs: output of model\n",
        "  #outputs: corresponding output to prediction\n",
        "  max_idxs = torch.max(z,1)[1]\n",
        "  print(max_idxs)\n",
        "  for entry,idx in enumerate(max_idxs,0):\n",
        "      for val in range(dims[1]):\n",
        "        if val == idx:\n",
        "          out[entry][val] = 1\n",
        "  return out"
      ],
      "execution_count": 25,
      "outputs": [
        {
          "output_type": "stream",
          "text": [
            "tensor([[0.4863, 0.2926, 0.3121, 0.6335, 0.7843, 0.7847],\n",
            "        [0.5819, 0.0760, 0.6694, 0.9646, 0.5324, 0.1178],\n",
            "        [0.9359, 0.9813, 0.5585, 0.9650, 0.0881, 0.8878],\n",
            "        [0.7985, 0.7015, 0.7754, 0.6497, 0.5587, 0.9334],\n",
            "        [0.7968, 0.7619, 0.1397, 0.7798, 0.8115, 0.7050]])\n",
            "tensor([5, 3, 1, 5, 4])\n",
            "[[0. 0. 0. 0. 0. 1.]\n",
            " [0. 0. 0. 1. 0. 0.]\n",
            " [0. 1. 0. 0. 0. 0.]\n",
            " [0. 0. 0. 0. 0. 1.]\n",
            " [0. 0. 0. 0. 1. 0.]]\n"
          ],
          "name": "stdout"
        }
      ]
    },
    {
      "cell_type": "markdown",
      "metadata": {
        "id": "ErVMQAJVfGi6"
      },
      "source": [
        "####accuracy function"
      ]
    },
    {
      "cell_type": "code",
      "metadata": {
        "id": "5GGnhmzFZzpc"
      },
      "source": [
        "def accuracy(preds, labels):\n",
        "    #inputs: preds: array, labels:array \n",
        "    #output: overall accuracy\n",
        "    correct = 0\n",
        "    for i in range(len(preds)):\n",
        "        if preds[i] == labels[i]:\n",
        "          correct +=1\n",
        "    return (correct/len(preds))"
      ],
      "execution_count": null,
      "outputs": []
    },
    {
      "cell_type": "markdown",
      "metadata": {
        "id": "kJlCum_EBNLh"
      },
      "source": [
        "####validate "
      ]
    },
    {
      "cell_type": "code",
      "metadata": {
        "id": "H8PwjiNodBWz"
      },
      "source": [
        "def validate(model,val_loader,loss_fcn):\n",
        "  val_acc=[]\n",
        "  val_loss=[]\n",
        "  for epoch in range(0,num_epochs):\n",
        "    for i,data in enumerate(val_loader,0): #iterate over val_loader, start idx=0\n",
        "      inputs,labels = data  #val_loader idx0->data, idx1->labels\n",
        "      \n",
        "      labels = F.one_hot(labels) #convert labels 0:home 1:away 2:tie to vector. Ex: 0->[1,0,0] 1->[0,1,0], 2->[0,0,1]\n",
        "\n",
        "      optimizer.zero_grad()  #initialize the gradients to zero  \n",
        "\n",
        "      z = model(inputs)\n",
        "      \n",
        "      preds = get_preds(z) #preds used for accuracy \n",
        "      loss = loss_fcn(input=z.squeeze(), target=labels.float())\n",
        "\n",
        "      mini_val_acc.append(accuracy(preds,labels))\n",
        "      mini_val_loss.append(loss.item())\n",
        "\n",
        "  ValLoss = sum(val_loss)/len(val_loss)\n",
        "  ValAcc = sum(val_acc) / len(val_acc)\n",
        "  \n",
        "  return ValAcc, ValLoss"
      ],
      "execution_count": null,
      "outputs": []
    },
    {
      "cell_type": "markdown",
      "metadata": {
        "id": "7kAaa_MEjVrw"
      },
      "source": [
        "#### MLP loader"
      ]
    },
    {
      "cell_type": "code",
      "metadata": {
        "id": "Q3vF0n-IjUwj"
      },
      "source": [
        "def load_MLP(lr):\n",
        "  #add optimizer,loss functions as a hyperparameters\n",
        "  model = MultiLayerPerceptron(input_size)\n",
        "  optimizer = torch.optim.SGD(model.parameters(),lr=lr)\n",
        "  loss_fcn = nn.MSELoss()\n",
        "  return model,optimizer,loss_fcn"
      ],
      "execution_count": null,
      "outputs": []
    },
    {
      "cell_type": "markdown",
      "metadata": {
        "id": "ZfaT7X6ZiWn_"
      },
      "source": [
        "##Training Loop"
      ]
    },
    {
      "cell_type": "code",
      "metadata": {
        "id": "18YWlXsYim9y"
      },
      "source": [
        "def train(rseed,lr,num_epochs):\n",
        "\n",
        "  torch.manual_seed(rseed)\n",
        "\n",
        "  model,optimizer,loss_fcn = load_MLP(lr)   #initialize model \n",
        "  soft = nn.SoftMax(dim=1) #create softmax act function\n",
        "\n",
        "\n",
        "  #records for plotting \n",
        "  TrainAccRec = []\n",
        "  TrainLossRec = []\n",
        "  ValAccRec = []  \n",
        "  ValLossRec = []\n",
        " \n",
        "# ========================================TRAINING LOOP =========================================# \n",
        "  for epoch in range(0,num_epochs):\n",
        "    for i,data in enumerate(train_loader,0): #iterate over train_loader, start idx=0\n",
        "      inputs,labels = data  #trainloader idx0->data, idx1->labels\n",
        "      \n",
        "      labels = F.one_hot(labels) #convert labels 0:home 1:away 2:tie to vector. Ex: 0->[1,0,0] 1->[0,1,0], 2->[0,0,1]\n",
        "\n",
        "      optimizer.zero_grad()  #initialize the gradients to zero  \n",
        "\n",
        "      z = model(inputs)  #z array of vector outputs, each size=3 \n",
        "\n",
        "      #z = soft(z)  #may not need since using sigmoid act fcn already\n",
        "\n",
        "      preds = get_preds(z) #preds used for accuracy \n",
        "\n",
        "      loss = loss_fcn(input=z.squeeze(), target=labels.float())\n",
        "\n",
        "      \n",
        "      loss.backward() #get gradients \n",
        "     \n",
        "      optimizer.step() #update parameters\n",
        "\n",
        "      train_acc = accuracy(preds,labels)\n",
        "      train_loss = loss.item()\n",
        "\n",
        "      val_acc, val_loss = validate(model, val_iter,loss_fcn)\n",
        "        \n",
        "    #add to overall records\n",
        "      TrainAccRec.append(train_acc)\n",
        "      TrainLossRec.append(train_loss)\n",
        "      ValAccRec.append(epoch_val_acc)\n",
        "      ValLossRec.append(epoch_val_loss)\n",
        "\n",
        "    # print(\"Epoch:\",epoch+1)\n",
        "    # print(\"train acc:\",epoch_train_acc)\n",
        "    # print(\"val acc:\",epoch_val_acc)\n",
        " \n",
        "    \n",
        "\n",
        "#plottting\n",
        "  e = np.arange(0,num_epochs)\n",
        "  plot(e,TrainAccRec,ValAccRec,'Epochs','Accuracy')\n",
        "  plot(e,TrainLossRec,ValLossRec,'Epochs','Losses')\n",
        "  print(\"Max training accuracy\",max(TrainAccRec))\n",
        "  print(\"Max Validation accuracy\",max(ValAccRec))\n",
        "  print(\"Min training loss\",min(TrainLossRec))\n",
        "  print(\"Min Validation loss\",min(ValLossRec))"
      ],
      "execution_count": null,
      "outputs": []
    }
  ]
}