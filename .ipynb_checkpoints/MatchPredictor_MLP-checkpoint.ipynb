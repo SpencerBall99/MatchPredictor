{
 "cells": [
  {
   "cell_type": "markdown",
   "metadata": {},
   "source": [
    "# MatchPredictor\n",
    "\n",
    "### A neural network which predicts the outcomes of Premier League football matches"
   ]
  },
  {
   "cell_type": "markdown",
   "metadata": {},
   "source": [
    "#### Importing Libraries & Packages"
   ]
  },
  {
   "cell_type": "code",
   "execution_count": 1,
   "metadata": {},
   "outputs": [
    {
     "name": "stdout",
     "output_type": "stream",
     "text": [
      "Microsoft Visual C++ Redistributable is not installed, this may lead to the DLL load failure.\n",
      "                 It can be downloaded at https://aka.ms/vs/16/release/vc_redist.x64.exe\n"
     ]
    }
   ],
   "source": [
    "import numpy as np\n",
    "\n",
    "import torch\n",
    "import torch.nn as nn\n",
    "import torch.nn.functional as F\n",
    "\n",
    "import pandas as pd"
   ]
  },
  {
   "cell_type": "markdown",
   "metadata": {},
   "source": [
    "#### Hyperparameters"
   ]
  },
  {
   "cell_type": "code",
   "execution_count": 2,
   "metadata": {},
   "outputs": [],
   "source": [
    "past = 5    # How many past games are taken into account for team form calculations"
   ]
  },
  {
   "cell_type": "markdown",
   "metadata": {},
   "source": [
    "#### Importing Match Data"
   ]
  },
  {
   "cell_type": "code",
   "execution_count": 3,
   "metadata": {},
   "outputs": [],
   "source": [
    "# Imported CSV becomes a pandas dataframe object\n",
    "data_20 = pd.read_csv(\"Prem_data_19-20\\england-premier-league-matches-2019-to-2020-stats.csv\")\n",
    "data_19 = pd.read_csv(\"Prem_data_18-19\\england-premier-league-matches-2018-to-2019-stats.csv\")\n",
    "data_18 = pd.read_csv(\"Prem_data_17-18\\england-premier-league-matches-2017-to-2018-stats.csv\")\n",
    "data_17 = pd.read_csv(\"Prem_data_16-17\\england-premier-league-matches-2016-to-2017-stats.csv\")\n",
    "data_16 = pd.read_csv(\"Prem_data_15-16\\england-premier-league-matches-2015-to-2016-stats.csv\")\n",
    "\n",
    "data = [data_20, data_19, data_18, data_17, data_16]"
   ]
  },
  {
   "cell_type": "markdown",
   "metadata": {},
   "source": [
    "#### Preprocessing Data"
   ]
  },
  {
   "cell_type": "code",
   "execution_count": 4,
   "metadata": {},
   "outputs": [
    {
     "data": {
      "text/plain": [
       "'\\n# Set up empty matrices to be filled with INPUTS\\n\\n# Each row represents the inputs that describe a match\\n# The first \"past\" weeks from each season cannot be used in training/testing as they have no previous matches to get data from\\n# Note: \"past\" is an hyperparameter (integer)\\n\\nin_20 = np.zeros((380-(past*10),12))\\nin_19 = np.zeros((380-(past*10),12))\\nin_18 = np.zeros((380-(past*10),12))\\nin_17 = np.zeros((380-(past*10),12))\\nin_16 = np.zeros((380-(past*10),12))\\n\\n\\n# Computing average goals scored per game over last \"past\" games\\n#for season in data:\\n\\nseason = data_20\\nweek = past + 1\\n\\nwhile week < 39:\\n    row_idx = (week-1)*10             # index of the first match of new week\\n    match_count = 0                   # counting the 10 matches played in a given week\\n\\n    while match_count < 10:\\n       # match = season.iloc[[row_idx]]\\n        home_team = season.at[row_idx,\\'home_team_name\\']    # saving home team name\\n        total_home_goals = 0                               # counting the total goals scored by the home team over \"past\" matches\\n        previous = 1                                       # index used to keep track of how many past matches have been looked at\\n\\n        while previous <= past:\\n    \\n            home_match_prev = season.loc[(season[\\'home_team_name\\'] == home_team) & (season[\\'Game Week\\'] == week-previous)]   # picking out home team\\'s previous match\\n            hsc_idx = 12\\n    \\n            if (home_match_prev.size == 0):\\n                home_match_prev = season.loc[(season[\\'away_team_name\\'] == home_team) & (season[\\'Game Week\\'] == week-previous)]   # picking out home team\\'s previous match\\n                hsc_idx = 13\\n            \\n            print(home_team, \\'goals scored in week\\', week-previous, \\'= \\', home_match_prev.iat[0,hsc_idx])\\n            total_home_goals += home_match_prev.iat[0,hsc_idx]\\n            previous += 1\\n        \\n        in_idx = row_idx - (past*10)\\n        in_20[in_idx][0] = total_home_goals/past\\n        row_idx += 1\\n        match_count += 1\\n\\n    week += 1\\n        \\n        \\nprint(in_20) \\n'"
      ]
     },
     "execution_count": 4,
     "metadata": {},
     "output_type": "execute_result"
    }
   ],
   "source": [
    "'''\n",
    "# Set up empty matrices to be filled with INPUTS\n",
    "\n",
    "# Each row represents the inputs that describe a match\n",
    "# The first \"past\" weeks from each season cannot be used in training/testing as they have no previous matches to get data from\n",
    "# Note: \"past\" is an hyperparameter (integer)\n",
    "\n",
    "in_20 = np.zeros((380-(past*10),12))\n",
    "in_19 = np.zeros((380-(past*10),12))\n",
    "in_18 = np.zeros((380-(past*10),12))\n",
    "in_17 = np.zeros((380-(past*10),12))\n",
    "in_16 = np.zeros((380-(past*10),12))\n",
    "\n",
    "\n",
    "# Computing average goals scored per game over last \"past\" games\n",
    "#for season in data:\n",
    "\n",
    "season = data_20\n",
    "week = past + 1\n",
    "\n",
    "while week < 39:\n",
    "    row_idx = (week-1)*10             # index of the first match of new week\n",
    "    match_count = 0                   # counting the 10 matches played in a given week\n",
    "\n",
    "    while match_count < 10:\n",
    "       # match = season.iloc[[row_idx]]\n",
    "        home_team = season.at[row_idx,'home_team_name']    # saving home team name\n",
    "        total_home_goals = 0                               # counting the total goals scored by the home team over \"past\" matches\n",
    "        previous = 1                                       # index used to keep track of how many past matches have been looked at\n",
    "\n",
    "        while previous <= past:\n",
    "    \n",
    "            home_match_prev = season.loc[(season['home_team_name'] == home_team) & (season['Game Week'] == week-previous)]   # picking out home team's previous match\n",
    "            hsc_idx = 12\n",
    "    \n",
    "            if (home_match_prev.size == 0):\n",
    "                home_match_prev = season.loc[(season['away_team_name'] == home_team) & (season['Game Week'] == week-previous)]   # picking out home team's previous match\n",
    "                hsc_idx = 13\n",
    "            \n",
    "            print(home_team, 'goals scored in week', week-previous, '= ', home_match_prev.iat[0,hsc_idx])\n",
    "            total_home_goals += home_match_prev.iat[0,hsc_idx]\n",
    "            previous += 1\n",
    "        \n",
    "        in_idx = row_idx - (past*10)\n",
    "        in_20[in_idx][0] = total_home_goals/past\n",
    "        row_idx += 1\n",
    "        match_count += 1\n",
    "\n",
    "    week += 1\n",
    "        \n",
    "        \n",
    "print(in_20) \n",
    "''' "
   ]
  },
  {
   "cell_type": "markdown",
   "metadata": {},
   "source": [
    "#### DATA PREPROCSESSING  \n",
    "  \n",
    "Here we create the inputs for our model from the raw .csv files we collected from *footystats.org*.  \n",
    "  \n",
    "- Each season will be represented by a matrix.  \n",
    "- Each row of this matrix will consist of the inputs that describe a single match to the neural net.  \n",
    "  \n",
    "In each row, the entries are as follows:  \n",
    "*Note: **past** is an integer hyperparameter*  \n",
    "  \n",
    "**Index 0**: Home team average goals scored per game over last **past** games.  \n",
    "**Index 1**:  Home team average goals conceded per game over last **past** games.  \n",
    "**Index 2**:  Home team pre-match PPG.  \n",
    "**Index 3**:  Home team ppg from last game (so current game isn’t included).  \n",
    "**Index 4**:  Home team average number of shots on target over last **past** games.  \n",
    "**Index 5**:  Home team average number of corners over last **past** games.  \n",
    "**Index 6**:  Away team average goals scored per game over last **past** games.  \n",
    "**Index 7**:  Away team average goals conceded per game over last **past** games.  \n",
    "**Index 8**:  Away team pre-match PPG.  \n",
    "**Index 9**:  Away team ppg from last game (so current game isn’t included).  \n",
    "**Index 10**:  Away team average number of shots on target over last **past** games.  \n",
    "**Index 11**:  Away team average number of corners over last **past** games.  \n",
    "**Index 12 (LABEL)**:  0 if Home Team won, 1 if Away Team won.  \n",
    "  \n",
    "  \n",
    "*NOTE: The first \"past\" weeks from each season cannot be used in training/testing as they have no previous matches to get data from.*"
   ]
  },
  {
   "cell_type": "code",
   "execution_count": 5,
   "metadata": {},
   "outputs": [
    {
     "name": "stdout",
     "output_type": "stream",
     "text": [
      "19/20 season input matrix (row = match): \n",
      " [[1.  0.  0.  ... 0.  0.  0. ]\n",
      " [1.2 0.  0.  ... 0.  0.  0. ]\n",
      " [1.2 0.  0.  ... 0.  0.  0. ]\n",
      " ...\n",
      " [0.8 0.  0.  ... 0.  0.  0. ]\n",
      " [1.4 0.  0.  ... 0.  0.  0. ]\n",
      " [2.  0.  0.  ... 0.  0.  0. ]] \n",
      "\n",
      "18/19 season input matrix (row = match): \n",
      " [[1.4 0.  0.  ... 0.  0.  0. ]\n",
      " [0.6 0.  0.  ... 0.  0.  0. ]\n",
      " [0.6 0.  0.  ... 0.  0.  0. ]\n",
      " ...\n",
      " [1.6 0.  0.  ... 0.  0.  0. ]\n",
      " [1.  0.  0.  ... 0.  0.  0. ]\n",
      " [1.4 0.  0.  ... 0.  0.  0. ]] \n",
      "\n",
      "17/18 season input matrix (row = match): \n",
      " [[0.8 0.  0.  ... 0.  0.  0. ]\n",
      " [1.2 0.  0.  ... 0.  0.  0. ]\n",
      " [0.4 0.  0.  ... 0.  0.  0. ]\n",
      " ...\n",
      " [0.4 0.  0.  ... 0.  0.  0. ]\n",
      " [1.2 0.  0.  ... 0.  0.  0. ]\n",
      " [1.2 0.  0.  ... 0.  0.  0. ]] \n",
      "\n",
      "16/17 season input matrix (row = match): \n",
      " [[1.6 0.  0.  ... 0.  0.  0. ]\n",
      " [0.6 0.  0.  ... 0.  0.  0. ]\n",
      " [2.2 0.  0.  ... 0.  0.  0. ]\n",
      " ...\n",
      " [0.8 0.  0.  ... 0.  0.  0. ]\n",
      " [1.2 0.  0.  ... 0.  0.  0. ]\n",
      " [0.2 0.  0.  ... 0.  0.  0. ]] \n",
      "\n",
      "15/16 season input matrix (row = match): \n",
      " [[1.4 0.  0.  ... 0.  0.  0. ]\n",
      " [1.4 0.  0.  ... 0.  0.  0. ]\n",
      " [0.6 0.  0.  ... 0.  0.  0. ]\n",
      " ...\n",
      " [1.4 0.  0.  ... 0.  0.  0. ]\n",
      " [0.6 0.  0.  ... 0.  0.  0. ]\n",
      " [1.  0.  0.  ... 0.  0.  0. ]] \n",
      "\n"
     ]
    }
   ],
   "source": [
    "# Set up empty matrices to be filled with INPUTS.\n",
    "# Once filled with values, each row will represent the inputs that describe a match to the NN.\n",
    "    \n",
    "    \n",
    "in_20 = np.zeros((380-(past*10),12))\n",
    "in_19 = np.zeros((380-(past*10),12))\n",
    "in_18 = np.zeros((380-(past*10),12))\n",
    "in_17 = np.zeros((380-(past*10),12))\n",
    "in_16 = np.zeros((380-(past*10),12))\n",
    "\n",
    "input_seasons = [in_20, in_19, in_18, in_17, in_16]\n",
    "\n",
    "\n",
    "season_idx = 0\n",
    "for season in data:\n",
    "\n",
    "    week = past + 1\n",
    "    input_season = input_seasons[season_idx]\n",
    "\n",
    "    while week < 39:\n",
    "        row_idx = (week-1)*10             # index of the first match of new week\n",
    "        match_count = 0                   # counting the 10 matches played in a given week\n",
    "\n",
    "        while match_count < 10:\n",
    "           # match = season.iloc[[row_idx]]\n",
    "            home_team = season.at[row_idx,'home_team_name']    # saving home team name\n",
    "            total_home_goals = 0                               # counting the total goals scored by the home team over \"past\" matches\n",
    "            previous = 1                                       # index used to keep track of how many past matches have been looked at\n",
    "\n",
    "            while previous <= past:\n",
    "\n",
    "                home_match_prev = season.loc[(season['home_team_name'] == home_team) & (season['Game Week'] == week-previous)]   # picking out home team's previous match\n",
    "                hsc_idx = 12\n",
    "\n",
    "                if (home_match_prev.size == 0):\n",
    "                    home_match_prev = season.loc[(season['away_team_name'] == home_team) & (season['Game Week'] == week-previous)]   # picking out home team's previous match\n",
    "                    hsc_idx = 13\n",
    "\n",
    "                #print(home_team, 'goals scored in week', week-previous, '= ', home_match_prev.iat[0,hsc_idx])\n",
    "                total_home_goals += home_match_prev.iat[0,hsc_idx]\n",
    "                previous += 1\n",
    "\n",
    "            in_idx = row_idx - (past*10)\n",
    "            input_season[in_idx][0] = total_home_goals/past\n",
    "            row_idx += 1\n",
    "            match_count += 1\n",
    "\n",
    "        week += 1\n",
    "        \n",
    "    season_idx += 1\n",
    "        \n",
    "print('19/20 season input matrix: \\n', in_20, '\\n')\n",
    "print('18/19 season input matrix: \\n', in_19, '\\n')\n",
    "print('17/18 season input matrix: \\n', in_18, '\\n')\n",
    "print('16/17 season input matrix: \\n', in_17, '\\n')\n",
    "print('15/16 season input matrix: \\n', in_16, '\\n')"
   ]
  },
  {
   "cell_type": "markdown",
   "metadata": {},
   "source": [
    "#### Multi-Layer Perceptron Model"
   ]
  },
  {
   "cell_type": "code",
   "execution_count": 6,
   "metadata": {},
   "outputs": [],
   "source": [
    "import torch.nn as nn\n",
    "import torch.nn.functional as F\n",
    "\n",
    "class MultiLayerPerceptron(nn.Module):\n",
    "\n",
    "    def __init__(self, input_size):\n",
    "\n",
    "        super(MultiLayerPerceptron, self).__init__()\n",
    "\n",
    "        self.fc1 = nn.Linear(input_size,64)\n",
    "        self.fc2 = nn.Linear(64,64)\n",
    "        self.fc3 = nn.Linear(64,64)\n",
    "        self.fc4 = nn.Linear(64,1)\n",
    "\n",
    "    def forward(self, features):\n",
    "\n",
    "        features = F.relu(self.fc1(features))\n",
    "        features = F.relu(self.fc2(features))\n",
    "        features = F.relu(self.fc3(features))\n",
    "        features = F.relu(self.fc4(features))\n",
    "        features = torch.sigmoid(features)\n",
    "\n",
    "        return features"
   ]
  }
 ],
 "metadata": {
  "kernelspec": {
   "display_name": "Python 3",
   "language": "python",
   "name": "python3"
  },
  "language_info": {
   "codemirror_mode": {
    "name": "ipython",
    "version": 3
   },
   "file_extension": ".py",
   "mimetype": "text/x-python",
   "name": "python",
   "nbconvert_exporter": "python",
   "pygments_lexer": "ipython3",
   "version": "3.8.3"
  }
 },
 "nbformat": 4,
 "nbformat_minor": 4
}
